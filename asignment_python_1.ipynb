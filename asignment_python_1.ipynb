{
 "cells": [
  {
   "cell_type": "markdown",
   "metadata": {},
   "source": [
    "# 1. Calculate Area of a Circle"
   ]
  },
  {
   "cell_type": "code",
   "execution_count": 1,
   "metadata": {},
   "outputs": [
    {
     "name": "stdout",
     "output_type": "stream",
     "text": [
      "Area Of Circle\n",
      "Please enter the radius of circle : 2\n",
      "The area of circle is : 12.56\n"
     ]
    }
   ],
   "source": [
    "print('Area Of Circle') \n",
    "r=float(input('Please enter the radius of circle : ')) \n",
    "print('The area of circle is :',3.14*r*r)"
   ]
  },
  {
   "cell_type": "markdown",
   "metadata": {},
   "source": [
    "# 2# Check Number either positive, negative or zero :"
   ]
  },
  {
   "cell_type": "code",
   "execution_count": 1,
   "metadata": {},
   "outputs": [
    {
     "name": "stdout",
     "output_type": "stream",
     "text": [
      "Enter the Number: 0\n",
      "Zero Number Entered\n"
     ]
    }
   ],
   "source": [
    "num = int(input(\"Enter the Number: \"))\n",
    "if num < 0:\n",
    "    print(\"Negative Number Entered\")\n",
    "elif num > 0:\n",
    "    print(\"Positive Number Entered\")\n",
    "else:\n",
    "    print(\"Zero Number Entered\")"
   ]
  },
  {
   "cell_type": "code",
   "execution_count": 6,
   "metadata": {},
   "outputs": [
    {
     "name": "stdout",
     "output_type": "stream",
     "text": [
      "Enter the Number: -10\n",
      "Negative Number Entered\n"
     ]
    }
   ],
   "source": [
    "num = int(input(\"Enter the Number: \"))\n",
    "if num < 0:\n",
    "    print(\"Negative Number Entered\")\n",
    "elif num > 0:\n",
    "    print(\"Positive Number Entered\")\n",
    "else:\n",
    "    print(\"Zero Number Entered\")"
   ]
  },
  {
   "cell_type": "code",
   "execution_count": 2,
   "metadata": {},
   "outputs": [
    {
     "name": "stdout",
     "output_type": "stream",
     "text": [
      "Enter the Number: 10\n",
      "Positive Number Entered\n"
     ]
    }
   ],
   "source": [
    "num = int(input(\"Enter the Number: \"))\n",
    "if num < 0:\n",
    "    print(\"Negative Number Entered\")\n",
    "elif num > 0:\n",
    "    print(\"Positive Number Entered\")\n",
    "else:\n",
    "    print(\"Zero Entered\")"
   ]
  },
  {
   "cell_type": "markdown",
   "metadata": {},
   "source": [
    "# 3# Divisibility Check of two numbers"
   ]
  },
  {
   "cell_type": "code",
   "execution_count": 17,
   "metadata": {},
   "outputs": [
    {
     "name": "stdout",
     "output_type": "stream",
     "text": [
      "Please enter the 1st number as divident : 50\n",
      "Please enter the 2nd number as diviser : 2\n",
      "The given number 50 is a completely divisible by 2\n"
     ]
    }
   ],
   "source": [
    "num1=int(input(\"Please enter the 1st number as divident : \"))\n",
    "num2=int(input(\"Please enter the 2nd number as diviser : \"))\n",
    "result=num1%num2\n",
    "if result==0:\n",
    "    print('The given number '+str(num1)+ ' is a completely divisible by '+str(num2))\n",
    "else:\n",
    "    print('The given number '+str(num1)+ ' is not a completely divisible by '+str(num2))"
   ]
  },
  {
   "cell_type": "code",
   "execution_count": 18,
   "metadata": {},
   "outputs": [
    {
     "name": "stdout",
     "output_type": "stream",
     "text": [
      "Please enter the 1st number as divident : 11\n",
      "Please enter the 2nd number as diviser : 2\n",
      "The given number 11 is not a completely divisible by 2\n"
     ]
    }
   ],
   "source": [
    "num1=int(input(\"Please enter the 1st number as divident : \"))\n",
    "num2=int(input(\"Please enter the 2nd number as diviser : \"))\n",
    "result=num1%num2\n",
    "if result==0:\n",
    "    print('The given number '+str(num1)+ ' is a completely divisible by '+str(num2))\n",
    "else:\n",
    "    print('The given number '+str(num1)+ ' is not a completely divisible by '+str(num2))"
   ]
  },
  {
   "cell_type": "markdown",
   "metadata": {},
   "source": [
    "# 4# Days Calculator :"
   ]
  },
  {
   "cell_type": "code",
   "execution_count": 19,
   "metadata": {},
   "outputs": [
    {
     "name": "stdout",
     "output_type": "stream",
     "text": [
      "Enter a date in (dd/mm/yy) Format: 12/12/1990\n",
      "Enter a date in (dd/mm/yy) Format: 12/12/1991\n",
      "There are 365 days in Between 12/12/1990 and 12/12/1991\n"
     ]
    }
   ],
   "source": [
    "from datetime import datetime\n",
    "date_format = \"%d/%m/%Y\"\n",
    "e = input(\"Enter a date in (dd/mm/yy) Format: \")\n",
    "f = input(\"Enter a date in (dd/mm/yy) Format: \")\n",
    "a = datetime.strptime( e , date_format)\n",
    "b = datetime.strptime( f , date_format)\n",
    "delta = b - a\n",
    "print (\"There are\", delta.days, \"days in Between\", e , \"and\" , f)"
   ]
  },
  {
   "cell_type": "markdown",
   "metadata": {},
   "source": [
    "# 5# Volume of a sphere :"
   ]
  },
  {
   "cell_type": "code",
   "execution_count": null,
   "metadata": {},
   "outputs": [],
   "source": [
    "r=float(input('Please Enter the Radius of Sphere : '))\n",
    "result=4/3*(3.14)*(r*r*r)\n",
    "print('The volume of sphere with redius '+str(r)+' is : ' +str(result))\n"
   ]
  },
  {
   "cell_type": "markdown",
   "metadata": {},
   "source": [
    "# 6# Copy string n times :"
   ]
  },
  {
   "cell_type": "code",
   "execution_count": 14,
   "metadata": {},
   "outputs": [
    {
     "name": "stdout",
     "output_type": "stream",
     "text": [
      "Enter String : ko\n",
      "How many copies of String you need :2\n",
      "2 Copies of ko are : koko\n"
     ]
    }
   ],
   "source": [
    "string = str(input('Enter String : '))\n",
    "copies = int(input('How many copies of String you need :'))\n",
    "h=i*string\n",
    "print(copies,\"Copies of\", string , \"are :\" , copies * string)"
   ]
  },
  {
   "cell_type": "markdown",
   "metadata": {},
   "source": [
    "# 7# Check if number is Even or Odd :"
   ]
  },
  {
   "cell_type": "code",
   "execution_count": 18,
   "metadata": {},
   "outputs": [
    {
     "name": "stdout",
     "output_type": "stream",
     "text": [
      "Please enter any number4\n",
      "4 is even\n"
     ]
    }
   ],
   "source": [
    "num=int(input('Please enter any number'))\n",
    "if num%2==0:\n",
    "     print(num,'is even')\n",
    "else:\n",
    "    print(num,'is odd')"
   ]
  },
  {
   "cell_type": "code",
   "execution_count": 19,
   "metadata": {},
   "outputs": [
    {
     "name": "stdout",
     "output_type": "stream",
     "text": [
      "Please enter any number5\n",
      "5 is odd\n"
     ]
    }
   ],
   "source": [
    "num=int(input('Please enter any number'))\n",
    "if num%2==0:\n",
    "     print(num,'is even')\n",
    "else:\n",
    "    print(num,'is odd')"
   ]
  },
  {
   "cell_type": "markdown",
   "metadata": {},
   "source": [
    "# 8 : Vowel Tester :"
   ]
  },
  {
   "cell_type": "code",
   "execution_count": 20,
   "metadata": {},
   "outputs": [
    {
     "name": "stdout",
     "output_type": "stream",
     "text": [
      "Enter a charactero\n",
      "Letter o is vowel\n"
     ]
    }
   ],
   "source": [
    "char=str(input('Enter a character'))\n",
    "if char=='a' or char=='e' or char=='i' or char=='o' or char=='u' :\n",
    "    print('Letter '+char+' is vowel')\n",
    "else:\n",
    "    print('Letter '+char+' is not a vowel')"
   ]
  },
  {
   "cell_type": "code",
   "execution_count": 21,
   "metadata": {},
   "outputs": [
    {
     "name": "stdout",
     "output_type": "stream",
     "text": [
      "Enter a characterk\n",
      "Letter k is not a vowel\n"
     ]
    }
   ],
   "source": [
    "char=str(input('Enter a character'))\n",
    "if char=='a' or char=='e' or char=='i' or char=='o' or char=='u' :\n",
    "    print('Letter '+char+' is vowel')\n",
    "else:\n",
    "    print('Letter '+char+' is not a vowel')"
   ]
  },
  {
   "cell_type": "code",
   "execution_count": 22,
   "metadata": {},
   "outputs": [
    {
     "name": "stdout",
     "output_type": "stream",
     "text": [
      "Enter a characterA\n",
      "Letter A is not a vowel\n"
     ]
    }
   ],
   "source": [
    "char=str(input('Enter a character'))\n",
    "if char=='a' or char=='e' or char=='i' or char=='o' or char=='u' :\n",
    "    print('Letter '+char+' is vowel')\n",
    "else:\n",
    "    print('Letter '+char+' is not a vowel')"
   ]
  },
  {
   "cell_type": "markdown",
   "metadata": {},
   "source": [
    "# 9# Triangle Area :"
   ]
  },
  {
   "cell_type": "code",
   "execution_count": 23,
   "metadata": {},
   "outputs": [
    {
     "name": "stdout",
     "output_type": "stream",
     "text": [
      "Enter magnitude of Triangle base :5\n",
      "Enter magnitude of Triangle hight :2\n",
      "The Area of triangle with base 5.0 and with hight 2.0 is 5.0\n"
     ]
    }
   ],
   "source": [
    "base=float(input('Enter magnitude of Triangle base :'))\n",
    "hight=float(input('Enter magnitude of Triangle hight :'))\n",
    "result=1/2*(base*hight)\n",
    "print('The Area of triangle with base '+str(base)+' and with hight '+str(hight)+' is '+str(result))"
   ]
  },
  {
   "cell_type": "markdown",
   "metadata": {},
   "source": [
    "# 10# Calculate Interest :"
   ]
  },
  {
   "cell_type": "code",
   "execution_count": 1,
   "metadata": {},
   "outputs": [
    {
     "name": "stdout",
     "output_type": "stream",
     "text": [
      "Enter Principle Amount: 10\n",
      "Enter rate of interest in %: 2\n",
      "Enter no of years of Investment: 2\n",
      "180.0\n"
     ]
    }
   ],
   "source": [
    "a = int(input(\"Enter Principle Amount: \"))\n",
    "b = float(input(\"Enter rate of interest in %: \"))\n",
    "c = int(input(\"Enter no of years of Investment: \"))\n",
    "e = 0\n",
    "f = a * b\n",
    "while e < c:\n",
    "    f += f * b \n",
    "    e += 1\n",
    "print(f)"
   ]
  },
  {
   "cell_type": "markdown",
   "metadata": {},
   "source": [
    "# 11# Euclidean distance :"
   ]
  },
  {
   "cell_type": "code",
   "execution_count": 3,
   "metadata": {},
   "outputs": [
    {
     "name": "stdout",
     "output_type": "stream",
     "text": [
      "Enter Co-ordinate for x1 : 6\n",
      "Enter Co-ordinate for x2 : 4\n",
      "Enter Co-ordinate for y1 : 2\n",
      "Enter Co-ordinate for y2 : 6\n",
      "Distance between points (6.0,4.0) and 2.0,6.0 is : 4.47213595499958\n"
     ]
    }
   ],
   "source": [
    "import math\n",
    "x1=float(input(\"Enter Co-ordinate for x1 : \"))\n",
    "x2=float(input(\"Enter Co-ordinate for x2 : \"))\n",
    "y1=float(input(\"Enter Co-ordinate for y1 : \"))        \n",
    "y2=float(input(\"Enter Co-ordinate for y2 : \"))\n",
    "rslt=math.sqrt((x2-x1)**2+(y2-y1)**2)\n",
    "print('Distance between points (' +str(x1)+','+str(x2)+ ') and ' +str(y1)+','+str(y2)+ ' is : '+str(rslt))    "
   ]
  },
  {
   "cell_type": "markdown",
   "metadata": {},
   "source": [
    "# 12# Feet to Centimeter Converter :"
   ]
  },
  {
   "cell_type": "code",
   "execution_count": 1,
   "metadata": {},
   "outputs": [
    {
     "name": "stdout",
     "output_type": "stream",
     "text": [
      "Enter hight in feet : 5\n",
      "There are 152.4 Cm in 5.0 feet\n"
     ]
    }
   ],
   "source": [
    "h_ft=float(input('Enter hight in feet : '))\n",
    "rslt=h_ft*30.48\n",
    "print('There are '+str(rslt)+' Cm in '+str(h_ft)+' feet')"
   ]
  },
  {
   "cell_type": "markdown",
   "metadata": {},
   "source": [
    "# 13# BMI Calculator :"
   ]
  },
  {
   "cell_type": "code",
   "execution_count": 3,
   "metadata": {},
   "outputs": [
    {
     "name": "stdout",
     "output_type": "stream",
     "text": [
      "Enter hight in Cm : 180\n",
      "Enter Weight in kg : 75\n",
      "Your BMI is : 23.148148148148145\n"
     ]
    }
   ],
   "source": [
    "h_cm=float(input('Enter hight in Cm : '))\n",
    "w=float(input('Enter Weight in kg : '))\n",
    "h_m=h_cm*0.01\n",
    "rslt=w/h_m**2\n",
    "print('Your BMI is : '+str(rslt))"
   ]
  },
  {
   "cell_type": "markdown",
   "metadata": {},
   "source": [
    "# 14# Sum of n Positive Integers :"
   ]
  },
  {
   "cell_type": "code",
   "execution_count": 5,
   "metadata": {},
   "outputs": [
    {
     "name": "stdout",
     "output_type": "stream",
     "text": [
      "Enter value of n: 5\n",
      "Sum of n Positive integers till 5 is 15.0\n"
     ]
    }
   ],
   "source": [
    "val = int(input(\"Enter value of n: \"))\n",
    "sum_num = (val * (val + 1)) / 2\n",
    "print('Sum of n Positive integers till '+str(val)+ ' is '+str(sum_num))"
   ]
  },
  {
   "cell_type": "markdown",
   "metadata": {},
   "source": [
    "# 15# Digits Sum of a Number :"
   ]
  },
  {
   "cell_type": "code",
   "execution_count": 13,
   "metadata": {},
   "outputs": [
    {
     "name": "stdout",
     "output_type": "stream",
     "text": [
      "Enter a Number: 565\n",
      "Sum of 5+6+5 is:  16\n"
     ]
    }
   ],
   "source": [
    "a = str(input(\"Enter a Number: \"))\n",
    "b = 0 \n",
    "for x in a:\n",
    "    b += int(x)\n",
    "print(\"Sum of\", '+'.join(map(str,a)) ,\"is: \",b)"
   ]
  },
  {
   "cell_type": "markdown",
   "metadata": {},
   "source": [
    "# 16# Binary to Decimal Converter :"
   ]
  },
  {
   "cell_type": "code",
   "execution_count": 14,
   "metadata": {},
   "outputs": [
    {
     "name": "stdout",
     "output_type": "stream",
     "text": [
      "Input a binary number: 10010\n",
      "The decimal value of the number is 18\n"
     ]
    }
   ],
   "source": [
    "b_num = list(input(\"Input a binary number: \"))\n",
    "value = 0\n",
    "\n",
    "for i in range(len(b_num)):\n",
    "\tdigit = b_num.pop()\n",
    "\tif digit == '1':\n",
    "\t\tvalue = value + pow(2, i)\n",
    "print(\"The decimal value of the number is\", value)"
   ]
  },
  {
   "cell_type": "markdown",
   "metadata": {},
   "source": [
    "# 17# Decimal To Binary Converter :"
   ]
  },
  {
   "cell_type": "code",
   "execution_count": 8,
   "metadata": {},
   "outputs": [
    {
     "name": "stdout",
     "output_type": "stream",
     "text": [
      "Input a binary number: 20\n"
     ]
    },
    {
     "ename": "IndexError",
     "evalue": "list assignment index out of range",
     "output_type": "error",
     "traceback": [
      "\u001b[1;31m---------------------------------------------------------------------------\u001b[0m",
      "\u001b[1;31mIndexError\u001b[0m                                Traceback (most recent call last)",
      "\u001b[1;32m<ipython-input-8-06197bb9622d>\u001b[0m in \u001b[0;36m<module>\u001b[1;34m\u001b[0m\n\u001b[0;32m      3\u001b[0m \u001b[0ml\u001b[0m\u001b[1;33m=\u001b[0m\u001b[1;33m[\u001b[0m\u001b[1;33m]\u001b[0m\u001b[1;33m\u001b[0m\u001b[1;33m\u001b[0m\u001b[0m\n\u001b[0;32m      4\u001b[0m \u001b[1;32mwhile\u001b[0m \u001b[0md_num\u001b[0m\u001b[1;33m>\u001b[0m\u001b[1;36m0\u001b[0m\u001b[1;33m:\u001b[0m\u001b[1;33m\u001b[0m\u001b[1;33m\u001b[0m\u001b[0m\n\u001b[1;32m----> 5\u001b[1;33m     \u001b[0ml\u001b[0m\u001b[1;33m[\u001b[0m\u001b[0mi\u001b[0m\u001b[1;33m]\u001b[0m\u001b[1;33m=\u001b[0m\u001b[0md_num\u001b[0m\u001b[1;33m%\u001b[0m\u001b[1;36m2\u001b[0m\u001b[1;33m\u001b[0m\u001b[1;33m\u001b[0m\u001b[0m\n\u001b[0m\u001b[0;32m      6\u001b[0m     \u001b[0md_num\u001b[0m\u001b[1;33m=\u001b[0m\u001b[0md_num\u001b[0m\u001b[1;33m/\u001b[0m\u001b[1;36m2\u001b[0m\u001b[1;33m\u001b[0m\u001b[1;33m\u001b[0m\u001b[0m\n\u001b[0;32m      7\u001b[0m     \u001b[0mi\u001b[0m\u001b[1;33m=\u001b[0m\u001b[0mi\u001b[0m\u001b[1;33m+\u001b[0m\u001b[1;36m1\u001b[0m\u001b[1;33m\u001b[0m\u001b[1;33m\u001b[0m\u001b[0m\n",
      "\u001b[1;31mIndexError\u001b[0m: list assignment index out of range"
     ]
    }
   ],
   "source": []
  },
  {
   "cell_type": "markdown",
   "metadata": {},
   "source": [
    "# 18# Vowel and Consonants Counter:"
   ]
  },
  {
   "cell_type": "code",
   "execution_count": 3,
   "metadata": {},
   "outputs": [
    {
     "name": "stdout",
     "output_type": "stream",
     "text": [
      "Enter String: ookiki\n",
      "Vowels:  4\n",
      "Consonants:  2\n"
     ]
    }
   ],
   "source": [
    "a = input(\"Enter String: \")\n",
    "c = a.lower()\n",
    "v_count = 0\n",
    "c_count = 0\n",
    "for x in c:\n",
    "    if x == \"a\" or x == \"e\" or x == \"i\" or x == \"o\" or x == \"u\":\n",
    "        v_count += 1\n",
    "    else:\n",
    "        c_count += 1\n",
    "print(\"Vowels: \",v_count)\n",
    "print(\"Consonants: \",c_count)"
   ]
  },
  {
   "cell_type": "markdown",
   "metadata": {},
   "source": [
    "# 19# Palindrome tester :"
   ]
  },
  {
   "cell_type": "code",
   "execution_count": 1,
   "metadata": {},
   "outputs": [
    {
     "name": "stdout",
     "output_type": "stream",
     "text": [
      "Enter Text:klk\n",
      "It is palindrome\n"
     ]
    }
   ],
   "source": [
    "txt = str(input(\"Enter Text:\"))\n",
    "\n",
    "rev_txt = reversed(txt)\n",
    "\n",
    "if list(txt) == list(rev_txt):\n",
    "    print(\"It is palindrome\")\n",
    "else:\n",
    "    print(\"It is not palindrome\")"
   ]
  },
  {
   "cell_type": "code",
   "execution_count": 2,
   "metadata": {},
   "outputs": [
    {
     "name": "stdout",
     "output_type": "stream",
     "text": [
      "Enter Text:lklll\n",
      "It is not palindrome\n"
     ]
    }
   ],
   "source": [
    "txt = str(input(\"Enter Text:\"))\n",
    "\n",
    "rev_txt = reversed(txt)\n",
    "\n",
    "if list(txt) == list(rev_txt):\n",
    "    print(\"It is palindrome\")\n",
    "else:\n",
    "    print(\"It is not palindrome\")"
   ]
  },
  {
   "cell_type": "markdown",
   "metadata": {},
   "source": [
    "# 20# Count Alphabets, Numbers and Special Characters :"
   ]
  },
  {
   "cell_type": "code",
   "execution_count": 14,
   "metadata": {},
   "outputs": [
    {
     "name": "stdout",
     "output_type": "stream",
     "text": [
      "Please Enter somrthing :hello world 2.5\n",
      "Alphabates :  10\n",
      "Number :  2\n",
      "Special Charecters :  1\n",
      "Space :  2\n"
     ]
    }
   ],
   "source": [
    "i = input('Please Enter somrthing :')\n",
    "a = 0\n",
    "n = 0\n",
    "sc=0\n",
    "sp=0\n",
    "for h in i:\n",
    "    if h>=chr(97) and h<=chr(122):\n",
    "        a=a+1\n",
    "    elif h>=chr(48) and h<=chr(57):\n",
    "        n=n+1\n",
    "    elif h>=chr(33) and h<=chr(47):\n",
    "        sc=sc+1\n",
    "    elif h==chr(32):\n",
    "        sp=sp+1\n",
    "    \n",
    "print(\"Alphabates : \", a)\n",
    "print(\"Number : \", n)\n",
    "print(\"Special Charecters : \", sc)\n",
    "print(\"Space : \", sp)\n",
    "        \n",
    "    "
   ]
  },
  {
   "cell_type": "markdown",
   "metadata": {},
   "source": [
    "# 21. Write a Python program to construct the following pattern :"
   ]
  },
  {
   "cell_type": "code",
   "execution_count": 8,
   "metadata": {},
   "outputs": [
    {
     "name": "stdout",
     "output_type": "stream",
     "text": [
      "*\n",
      "**\n",
      "***\n",
      "****\n",
      "*****\n",
      "****\n",
      "***\n",
      "**\n",
      "*\n"
     ]
    }
   ],
   "source": [
    "f1 = 1\n",
    "i1 = 0\n",
    "f2 = 4\n",
    "i2 = 0\n",
    "while i1 <= 4:\n",
    "    d = '*'\n",
    "    print(d * f1)\n",
    "    f1 += 1\n",
    "    i1 += 1\n",
    "while i2 < 4:\n",
    "    d = '*'\n",
    "    print(d * f2)\n",
    "    f2 -= 1\n",
    "    i2 += 1"
   ]
  },
  {
   "cell_type": "markdown",
   "metadata": {},
   "source": [
    "# 22. Write a Python program to construct the following pattern :"
   ]
  },
  {
   "cell_type": "code",
   "execution_count": 6,
   "metadata": {},
   "outputs": [
    {
     "name": "stdout",
     "output_type": "stream",
     "text": [
      "Second Number Pattern \n",
      "1 \n",
      "1 2 \n",
      "1 2 3 \n",
      "1 2 3 4 \n",
      "1 2 3 4 5 \n",
      "1 2 3 4  \n",
      "1 2 3  \n",
      "1 2  \n",
      "1  \n"
     ]
    }
   ],
   "source": [
    "print(\"Second Number Pattern \")\n",
    "lastNumber = 6\n",
    "num=0\n",
    "for row in range(1, lastNumber):\n",
    "    for column in range(1, row + 1):\n",
    "        print(column, end=' ')\n",
    "    print(\"\")\n",
    "for r in range(4,num,-1):\n",
    "    for c in range(1, r + 1):\n",
    "        print (c , end = \" \")\n",
    "    print(\" \")     "
   ]
  },
  {
   "cell_type": "markdown",
   "metadata": {},
   "source": [
    "# 23. Write a Python program to construct the following pattern :"
   ]
  },
  {
   "cell_type": "code",
   "execution_count": 7,
   "metadata": {},
   "outputs": [
    {
     "name": "stdout",
     "output_type": "stream",
     "text": [
      " \n",
      "1  \n",
      "2 2  \n",
      "3 3 3  \n",
      "4 4 4 4  \n",
      "5 5 5 5 5  \n",
      "6 6 6 6 6 6  \n",
      "7 7 7 7 7 7 7  \n",
      "8 8 8 8 8 8 8 8  \n",
      "9 9 9 9 9 9 9 9 9  \n"
     ]
    }
   ],
   "source": [
    "for i in range(10):\n",
    "    for f in range(i):\n",
    "        print(i, end = ' ')\n",
    "    print(\" \")"
   ]
  },
  {
   "cell_type": "code",
   "execution_count": 3,
   "metadata": {},
   "outputs": [
    {
     "data": {
      "text/plain": [
       "'d'"
      ]
     },
     "execution_count": 3,
     "metadata": {},
     "output_type": "execute_result"
    }
   ],
   "source": []
  },
  {
   "cell_type": "code",
   "execution_count": null,
   "metadata": {},
   "outputs": [],
   "source": []
  }
 ],
 "metadata": {
  "kernelspec": {
   "display_name": "Python 3",
   "language": "python",
   "name": "python3"
  },
  "language_info": {
   "codemirror_mode": {
    "name": "ipython",
    "version": 3
   },
   "file_extension": ".py",
   "mimetype": "text/x-python",
   "name": "python",
   "nbconvert_exporter": "python",
   "pygments_lexer": "ipython3",
   "version": "3.7.3"
  }
 },
 "nbformat": 4,
 "nbformat_minor": 2
}
